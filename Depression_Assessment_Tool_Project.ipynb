{
  "nbformat": 4,
  "nbformat_minor": 0,
  "metadata": {
    "colab": {
      "provenance": [],
      "authorship_tag": "ABX9TyPxU5OH6WN4NRegf7nDXaJ9",
      "include_colab_link": true
    },
    "kernelspec": {
      "name": "python3",
      "display_name": "Python 3"
    },
    "language_info": {
      "name": "python"
    }
  },
  "cells": [
    {
      "cell_type": "markdown",
      "metadata": {
        "id": "view-in-github",
        "colab_type": "text"
      },
      "source": [
        "<a href=\"https://colab.research.google.com/github/marianataqi/Maria_Portfolio/blob/main/Depression_Assessment_Tool_Project.ipynb\" target=\"_parent\"><img src=\"https://colab.research.google.com/assets/colab-badge.svg\" alt=\"Open In Colab\"/></a>"
      ]
    },
    {
      "cell_type": "markdown",
      "source": [
        "# **Summary of the PHQ-9 Depression Assessment Tool Project**\n",
        "\n",
        "The goal of this project was to create a simple, class-based program that asks users a set of standardized questions to assess depression levels and immediately provides the results. The program is based on the PHQ-9 (Patient Health Questionnaire-9), a widely used tool for screening and measuring depression severity.\n",
        "\n",
        "**Key Features**\n",
        "* PHQ-9 Questionnaire Design: The program includes 9 core questions about the user's experience of depression symptoms over the past two weeks, plus a 10th question assessing how these symptoms affect daily functioning.\n",
        "\n",
        "* Standardized Response Options: Users select from four response options ranging from \"Not at all\" to \"Nearly every day,\" with responses scored from 0 to 3 to quantify symptom severity.\n",
        "\n",
        "* Class-Based Implementation: The program is designed using a class-based structure, ensuring modularity and ease of maintenance. This approach also allows for future enhancements, such as adding new features or modifying the existing ones without affecting the overall program.\n",
        "\n",
        "* Automated Questionnaire Administration: The program guides users through the questionnaire, validates inputs, and collects responses efficiently, ensuring data accuracy.\n",
        "\n",
        "* Score Calculation and Interpretation: After completing the questionnaire, the program calculates a total score and categorizes the depression level as \"Minimal,\" \"Mild,\" \"Moderate,\" \"Moderately severe,\" or \"Severe,\" providing immediate feedback to the user.\n",
        "\n",
        "**Applications and Benefits**\n",
        "\n",
        "* Quick Depression Screening: Users can easily assess their depression level within minutes, making the tool accessible for self-evaluation.\n",
        "Instant Feedback: The program offers immediate results, helping users understand their mental health status and decide whether to seek professional help.\n",
        "* Support for Mental Health Awareness: The tool is valuable in clinical, educational, and community settings for promoting mental health awareness and early detection of depression.\n",
        "\n",
        "This class-based program effectively meets the need for a straightforward, reliable tool for depression assessment, supporting both individual users and broader mental health initiatives."
      ],
      "metadata": {
        "id": "KOjkmLQjK--A"
      }
    },
    {
      "cell_type": "code",
      "source": [
        "#PHQ-9 Questions\n",
        "questions = [\n",
        "    \"1. Little interest or pleasure in doing things?\",\n",
        "    \"2. Feeling down, depressed, or hopeless?\",\n",
        "    \"3. Trouble falling or staying asleep, or sleeping too much?\",\n",
        "    \"4. Feeling tired or having little energy?\",\n",
        "    \"5. Poor appetite or overeating?\",\n",
        "    \"6. Feeling bad about yourself — or that you are a failure or have let yourself or your family down?\",\n",
        "    \"7. Trouble concentrating on things, such as reading the newspaper or watching television?\",\n",
        "    \"8. Moving or speaking so slowly that other people could have noticed? Or the opposite — being so fidgety or restless that you have been moving around a lot more than usual?\",\n",
        "    \"9. Thoughts that you would be better off dead, or thoughts of hurting yourself in some way?\",\n",
        "    \"10. If you've checked off any problems, how difficult have these problems made it for you at work, home, or with other people?\"\n",
        "]\n",
        "\n",
        "#answers\n",
        "options = {\n",
        "    0: \"Not at all\",\n",
        "    1: \"Several days\",\n",
        "    2: \"More than half the days\",\n",
        "    3: \"Nearly every day\"\n",
        "}\n",
        "\n",
        "#administer the questionnaire\n",
        "def administer_phq9():\n",
        "    responses = []\n",
        "    print(\"PHQ-9 Patient Depression Questionnaire\\n\")\n",
        "\n",
        "    for i, question in enumerate(questions[:9], 1):\n",
        "        print(f\"{question}\")\n",
        "        for key, value in options.items():\n",
        "            print(f\"{key}: {value}\")\n",
        "\n",
        "        while True:\n",
        "            try:\n",
        "                response = int(input(\"Your answer (0-3): \"))\n",
        "                if response in options:\n",
        "                    responses.append(response)\n",
        "                    break\n",
        "                else:\n",
        "                    print(\"Invalid input. Please enter a number between 0 and 3.\")\n",
        "            except ValueError:\n",
        "                print(\"Invalid input. Please enter a number between 0 and 3.\")\n",
        "\n",
        "    print(f\"\\n{questions[9]}\")\n",
        "    for key, value in options.items():\n",
        "        print(f\"{key}: {value}\")\n",
        "    while True:\n",
        "        try:\n",
        "            response = int(input(\"Your answer (0-3): \"))\n",
        "            if response in options:\n",
        "                responses.append(response)\n",
        "                break\n",
        "            else:\n",
        "                print(\"Invalid input. Please enter a number between 0 and 3.\")\n",
        "        except ValueError:\n",
        "            print(\"Invalid input. Please enter a number between 0 and 3.\")\n",
        "\n",
        "    return responses\n",
        "\n",
        "#calculate the total score\n",
        "def calculate_score(responses):\n",
        "    total_score = sum(responses[:9])\n",
        "    return total_score\n",
        "\n",
        "#interpret the total score\n",
        "def interpret_score(total_score):\n",
        "    if total_score <= 4:\n",
        "        severity = \"Minimal depression\"\n",
        "    elif 5 <= total_score <= 9:\n",
        "        severity = \"Mild depression\"\n",
        "    elif 10 <= total_score <= 14:\n",
        "        severity = \"Moderate depression\"\n",
        "    elif 15 <= total_score <= 19:\n",
        "        severity = \"Moderately severe depression\"\n",
        "    else:\n",
        "        severity = \"Severe depression\"\n",
        "    return severity\n",
        "\n",
        "#main function\n",
        "def main():\n",
        "    responses = administer_phq9()\n",
        "    total_score = calculate_score(responses)\n",
        "    severity = interpret_score(total_score)\n",
        "\n",
        "    print(f\"\\nYour total score is: {total_score}\")\n",
        "    print(f\"Depression severity: {severity}\")\n",
        "\n",
        "if __name__ == \"__main__\":\n",
        "    main()"
      ],
      "metadata": {
        "id": "JUtp0cRSK_Pe"
      },
      "execution_count": null,
      "outputs": []
    }
  ]
}